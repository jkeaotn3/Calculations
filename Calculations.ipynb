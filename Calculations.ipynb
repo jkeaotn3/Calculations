{
  "metadata": {
    "toc-showmarkdowntxt": true,
    "toc-autonumbering": false,
    "toc-showcode": true,
    "language_info": {
      "codemirror_mode": {
        "name": "python",
        "version": 3
      },
      "file_extension": ".py",
      "mimetype": "text/x-python",
      "name": "python",
      "nbconvert_exporter": "python",
      "pygments_lexer": "ipython3",
      "version": "3.8"
    },
    "kernelspec": {
      "name": "python",
      "display_name": "Python (Pyodide)",
      "language": "python"
    }
  },
  "nbformat_minor": 4,
  "nbformat": 4,
  "cells": [
    {
      "cell_type": "markdown",
      "source": "My Jupyter Notebook on IBM Watson Studio ",
      "metadata": {}
    },
    {
      "cell_type": "markdown",
      "source": "<b> Jamaal Keaton </b> \nDirect Support Professional",
      "metadata": {}
    },
    {
      "cell_type": "markdown",
      "source": "*I am intereseted in data science because of my previous experince of learning stats in high school.*\n",
      "metadata": {}
    },
    {
      "cell_type": "markdown",
      "source": "### Cell 5 is to show the calculations of 5+5 ###",
      "metadata": {}
    },
    {
      "cell_type": "code",
      "source": "5+5==10 ",
      "metadata": {
        "trusted": true
      },
      "execution_count": 4,
      "outputs": [
        {
          "execution_count": 4,
          "output_type": "execute_result",
          "data": {
            "text/plain": "True"
          },
          "metadata": {}
        }
      ]
    },
    {
      "cell_type": "markdown",
      "source": "| 5 + 5 = 10 | \n\n1. 5+5 = 10\n\n* 5+5 = 10\n",
      "metadata": {}
    },
    {
      "cell_type": "code",
      "source": "",
      "metadata": {},
      "execution_count": null,
      "outputs": []
    }
  ]
}